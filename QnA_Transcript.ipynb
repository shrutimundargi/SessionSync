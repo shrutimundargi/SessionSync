{
 "cells": [
  {
   "cell_type": "markdown",
   "id": "6b019413",
   "metadata": {},
   "source": [
    "# Chatbot"
   ]
  },
  {
   "cell_type": "code",
   "execution_count": 1,
   "id": "9e3839a6-9146-4f60-b74b-19abbc24278d",
   "metadata": {},
   "outputs": [],
   "source": [
    "import ast  # for converting embeddings saved as strings back to arrays\n",
    "import openai    \n",
    "import pandas as pd  \n",
    "import tiktoken  # for counting tokens\n",
    "import os\n",
    "from scipy import spatial  # for calculating vector similarities for search\n",
    "\n",
    "\n",
    "# models\n",
    "EMBEDDING_MODEL = \"text-embedding-ada-002\"\n",
    "GPT_MODEL = \"gpt-3.5-turbo\"\n",
    "\n",
    "openai.api_key = os.getenv(\"OPENAI KEY\")  #ADD YOUR OWN API KEY"
   ]
  },
  {
   "cell_type": "markdown",
   "id": "7ff12210",
   "metadata": {},
   "source": [
    "## Installation"
   ]
  },
  {
   "cell_type": "code",
   "execution_count": 2,
   "id": "207dc79a",
   "metadata": {
    "scrolled": true
   },
   "outputs": [
    {
     "name": "stdout",
     "output_type": "stream",
     "text": [
      "Requirement already satisfied: tiktoken in /Users/saniyakapur/opt/anaconda3/envs/aakhri/lib/python3.8/site-packages (0.6.0)\n",
      "Requirement already satisfied: regex>=2022.1.18 in /Users/saniyakapur/opt/anaconda3/envs/aakhri/lib/python3.8/site-packages (from tiktoken) (2023.12.25)\n",
      "Requirement already satisfied: requests>=2.26.0 in /Users/saniyakapur/opt/anaconda3/envs/aakhri/lib/python3.8/site-packages (from tiktoken) (2.31.0)\n",
      "Requirement already satisfied: charset-normalizer<4,>=2 in /Users/saniyakapur/opt/anaconda3/envs/aakhri/lib/python3.8/site-packages (from requests>=2.26.0->tiktoken) (3.3.2)\n",
      "Requirement already satisfied: idna<4,>=2.5 in /Users/saniyakapur/opt/anaconda3/envs/aakhri/lib/python3.8/site-packages (from requests>=2.26.0->tiktoken) (3.4)\n",
      "Requirement already satisfied: urllib3<3,>=1.21.1 in /Users/saniyakapur/opt/anaconda3/envs/aakhri/lib/python3.8/site-packages (from requests>=2.26.0->tiktoken) (1.26.18)\n",
      "Requirement already satisfied: certifi>=2017.4.17 in /Users/saniyakapur/opt/anaconda3/envs/aakhri/lib/python3.8/site-packages (from requests>=2.26.0->tiktoken) (2023.7.22)\n",
      "Note: you may need to restart the kernel to use updated packages.\n"
     ]
    }
   ],
   "source": [
    "pip install tiktoken"
   ]
  },
  {
   "cell_type": "code",
   "execution_count": 1,
   "id": "adf700ac",
   "metadata": {},
   "outputs": [
    {
     "name": "stdout",
     "output_type": "stream",
     "text": [
      "Requirement already satisfied: openai in /Users/saniyakapur/opt/anaconda3/envs/aakhri/lib/python3.8/site-packages (0.28.1)\n",
      "Requirement already satisfied: pandas in /Users/saniyakapur/opt/anaconda3/envs/aakhri/lib/python3.8/site-packages (2.0.3)\n",
      "Collecting scipy\n",
      "  Using cached scipy-1.10.1-cp38-cp38-macosx_10_9_x86_64.whl.metadata (53 kB)\n",
      "Requirement already satisfied: requests>=2.20 in /Users/saniyakapur/opt/anaconda3/envs/aakhri/lib/python3.8/site-packages (from openai) (2.31.0)\n",
      "Requirement already satisfied: tqdm in /Users/saniyakapur/opt/anaconda3/envs/aakhri/lib/python3.8/site-packages (from openai) (4.66.1)\n",
      "Requirement already satisfied: aiohttp in /Users/saniyakapur/opt/anaconda3/envs/aakhri/lib/python3.8/site-packages (from openai) (3.8.6)\n",
      "Requirement already satisfied: python-dateutil>=2.8.2 in /Users/saniyakapur/opt/anaconda3/envs/aakhri/lib/python3.8/site-packages (from pandas) (2.8.2)\n",
      "Requirement already satisfied: pytz>=2020.1 in /Users/saniyakapur/opt/anaconda3/envs/aakhri/lib/python3.8/site-packages (from pandas) (2023.3.post1)\n",
      "Requirement already satisfied: tzdata>=2022.1 in /Users/saniyakapur/opt/anaconda3/envs/aakhri/lib/python3.8/site-packages (from pandas) (2023.3)\n",
      "Requirement already satisfied: numpy>=1.20.3 in /Users/saniyakapur/opt/anaconda3/envs/aakhri/lib/python3.8/site-packages (from pandas) (1.24.4)\n",
      "Requirement already satisfied: six>=1.5 in /Users/saniyakapur/opt/anaconda3/envs/aakhri/lib/python3.8/site-packages (from python-dateutil>=2.8.2->pandas) (1.16.0)\n",
      "Requirement already satisfied: charset-normalizer<4,>=2 in /Users/saniyakapur/opt/anaconda3/envs/aakhri/lib/python3.8/site-packages (from requests>=2.20->openai) (3.3.2)\n",
      "Requirement already satisfied: idna<4,>=2.5 in /Users/saniyakapur/opt/anaconda3/envs/aakhri/lib/python3.8/site-packages (from requests>=2.20->openai) (3.4)\n",
      "Requirement already satisfied: urllib3<3,>=1.21.1 in /Users/saniyakapur/opt/anaconda3/envs/aakhri/lib/python3.8/site-packages (from requests>=2.20->openai) (1.26.18)\n",
      "Requirement already satisfied: certifi>=2017.4.17 in /Users/saniyakapur/opt/anaconda3/envs/aakhri/lib/python3.8/site-packages (from requests>=2.20->openai) (2023.7.22)\n",
      "Requirement already satisfied: attrs>=17.3.0 in /Users/saniyakapur/opt/anaconda3/envs/aakhri/lib/python3.8/site-packages (from aiohttp->openai) (23.1.0)\n",
      "Requirement already satisfied: multidict<7.0,>=4.5 in /Users/saniyakapur/opt/anaconda3/envs/aakhri/lib/python3.8/site-packages (from aiohttp->openai) (6.0.4)\n",
      "Requirement already satisfied: async-timeout<5.0,>=4.0.0a3 in /Users/saniyakapur/opt/anaconda3/envs/aakhri/lib/python3.8/site-packages (from aiohttp->openai) (4.0.3)\n",
      "Requirement already satisfied: yarl<2.0,>=1.0 in /Users/saniyakapur/opt/anaconda3/envs/aakhri/lib/python3.8/site-packages (from aiohttp->openai) (1.9.2)\n",
      "Requirement already satisfied: frozenlist>=1.1.1 in /Users/saniyakapur/opt/anaconda3/envs/aakhri/lib/python3.8/site-packages (from aiohttp->openai) (1.4.0)\n",
      "Requirement already satisfied: aiosignal>=1.1.2 in /Users/saniyakapur/opt/anaconda3/envs/aakhri/lib/python3.8/site-packages (from aiohttp->openai) (1.3.1)\n",
      "Using cached scipy-1.10.1-cp38-cp38-macosx_10_9_x86_64.whl (35.0 MB)\n",
      "Installing collected packages: scipy\n",
      "Successfully installed scipy-1.10.1\n",
      "Note: you may need to restart the kernel to use updated packages.\n"
     ]
    }
   ],
   "source": [
    "pip install openai pandas scipy"
   ]
  },
  {
   "cell_type": "code",
   "execution_count": 2,
   "id": "15bce57d",
   "metadata": {
    "scrolled": true
   },
   "outputs": [
    {
     "name": "stdout",
     "output_type": "stream",
     "text": [
      "Requirement already satisfied: charset_normalizer in /Users/saniyakapur/opt/anaconda3/envs/aakhri/lib/python3.8/site-packages (3.3.2)\n",
      "Note: you may need to restart the kernel to use updated packages.\n"
     ]
    }
   ],
   "source": [
    "pip install --upgrade charset_normalizer"
   ]
  },
  {
   "cell_type": "code",
   "execution_count": 3,
   "id": "54f7f36b",
   "metadata": {},
   "outputs": [
    {
     "data": {
      "text/html": [
       "<div>\n",
       "<style scoped>\n",
       "    .dataframe tbody tr th:only-of-type {\n",
       "        vertical-align: middle;\n",
       "    }\n",
       "\n",
       "    .dataframe tbody tr th {\n",
       "        vertical-align: top;\n",
       "    }\n",
       "\n",
       "    .dataframe thead th {\n",
       "        text-align: right;\n",
       "    }\n",
       "</style>\n",
       "<table border=\"1\" class=\"dataframe\">\n",
       "  <thead>\n",
       "    <tr style=\"text-align: right;\">\n",
       "      <th></th>\n",
       "      <th>Client_ID</th>\n",
       "      <th>Client Name</th>\n",
       "      <th>Age</th>\n",
       "      <th>Gender</th>\n",
       "      <th>Transcript</th>\n",
       "    </tr>\n",
       "  </thead>\n",
       "  <tbody>\n",
       "    <tr>\n",
       "      <th>0</th>\n",
       "      <td>1</td>\n",
       "      <td>John Doe</td>\n",
       "      <td>35</td>\n",
       "      <td>Male</td>\n",
       "      <td>Therapist (T): \"Welcome, and thank you for sha...</td>\n",
       "    </tr>\n",
       "    <tr>\n",
       "      <th>1</th>\n",
       "      <td>2</td>\n",
       "      <td>Jaxonina Peter</td>\n",
       "      <td>25</td>\n",
       "      <td>Female</td>\n",
       "      <td>Therapist (T): Good morning, and welcome. I'm ...</td>\n",
       "    </tr>\n",
       "    <tr>\n",
       "      <th>2</th>\n",
       "      <td>3</td>\n",
       "      <td>Nate Rust</td>\n",
       "      <td>33</td>\n",
       "      <td>Non-Binary</td>\n",
       "      <td>THERAPIST: I want to welcome you to your first...</td>\n",
       "    </tr>\n",
       "  </tbody>\n",
       "</table>\n",
       "</div>"
      ],
      "text/plain": [
       "   Client_ID     Client Name  Age       Gender  \\\n",
       "0          1        John Doe    35        Male   \n",
       "1          2  Jaxonina Peter    25      Female   \n",
       "2          3       Nate Rust    33  Non-Binary   \n",
       "\n",
       "                                          Transcript  \n",
       "0  Therapist (T): \"Welcome, and thank you for sha...  \n",
       "1  Therapist (T): Good morning, and welcome. I'm ...  \n",
       "2  THERAPIST: I want to welcome you to your first...  "
      ]
     },
     "execution_count": 3,
     "metadata": {},
     "output_type": "execute_result"
    }
   ],
   "source": [
    "df_try = pd.read_csv('Client_Data.csv')\n",
    "df_try    # customised dataset"
   ]
  },
  {
   "cell_type": "code",
   "execution_count": 4,
   "id": "fab77e5a",
   "metadata": {},
   "outputs": [
    {
     "data": {
      "text/html": [
       "<div>\n",
       "<style scoped>\n",
       "    .dataframe tbody tr th:only-of-type {\n",
       "        vertical-align: middle;\n",
       "    }\n",
       "\n",
       "    .dataframe tbody tr th {\n",
       "        vertical-align: top;\n",
       "    }\n",
       "\n",
       "    .dataframe thead th {\n",
       "        text-align: right;\n",
       "    }\n",
       "</style>\n",
       "<table border=\"1\" class=\"dataframe\">\n",
       "  <thead>\n",
       "    <tr style=\"text-align: right;\">\n",
       "      <th></th>\n",
       "      <th>Client_ID</th>\n",
       "      <th>Client Name</th>\n",
       "      <th>Age</th>\n",
       "      <th>Gender</th>\n",
       "      <th>Transcript</th>\n",
       "    </tr>\n",
       "  </thead>\n",
       "  <tbody>\n",
       "    <tr>\n",
       "      <th>0</th>\n",
       "      <td>1</td>\n",
       "      <td>John Doe</td>\n",
       "      <td>35</td>\n",
       "      <td>Male</td>\n",
       "      <td>Therapist (T): \"Welcome, and thank you for sha...</td>\n",
       "    </tr>\n",
       "    <tr>\n",
       "      <th>1</th>\n",
       "      <td>2</td>\n",
       "      <td>Jaxonina Peter</td>\n",
       "      <td>25</td>\n",
       "      <td>Female</td>\n",
       "      <td>Therapist (T): Good morning, and welcome. I'm ...</td>\n",
       "    </tr>\n",
       "    <tr>\n",
       "      <th>2</th>\n",
       "      <td>3</td>\n",
       "      <td>Nate Rust</td>\n",
       "      <td>33</td>\n",
       "      <td>Non-Binary</td>\n",
       "      <td>THERAPIST: I want to welcome you to your first...</td>\n",
       "    </tr>\n",
       "  </tbody>\n",
       "</table>\n",
       "</div>"
      ],
      "text/plain": [
       "   Client_ID     Client Name  Age       Gender  \\\n",
       "0          1        John Doe    35        Male   \n",
       "1          2  Jaxonina Peter    25      Female   \n",
       "2          3       Nate Rust    33  Non-Binary   \n",
       "\n",
       "                                          Transcript  \n",
       "0  Therapist (T): \"Welcome, and thank you for sha...  \n",
       "1  Therapist (T): Good morning, and welcome. I'm ...  \n",
       "2  THERAPIST: I want to welcome you to your first...  "
      ]
     },
     "execution_count": 4,
     "metadata": {},
     "output_type": "execute_result"
    }
   ],
   "source": [
    "df_cleaned = df_try.dropna()\n",
    "df_cleaned #Data Cleaning"
   ]
  },
  {
   "cell_type": "markdown",
   "id": "6d636093",
   "metadata": {},
   "source": [
    "## Function to get embeddings"
   ]
  },
  {
   "cell_type": "code",
   "execution_count": 5,
   "id": "c28654bc",
   "metadata": {},
   "outputs": [],
   "source": [
    "df = df_cleaned\n",
    "\n",
    "openai.api_key = \"OPENAI KEY\"  #ADD YOUR OWN API KEY\n",
    "\n",
    "def get_embeddings(texts):\n",
    "    embeddings = []\n",
    "    for text in texts:\n",
    "        # Convert the text to string in case it's not\n",
    "        text = str(text)\n",
    "        try:\n",
    "            response = openai.Embedding.create(\n",
    "                model=\"text-embedding-ada-002\",\n",
    "                input=text  \n",
    "            )\n",
    "            embeddings.append(response['data'][0]['embedding'])\n",
    "        except openai.error.InvalidRequestError as e:\n",
    "            # Error when text is too long\n",
    "            print(f\"An error occurred: {e}\")\n",
    "        except Exception as e:\n",
    "            # General exception handling\n",
    "            print(f\"An unexpected error occurred: {e}\")\n",
    "    return embeddings\n",
    "\n",
    "embeddings = get_embeddings(df['Transcript'].tolist())\n",
    "\n",
    "# Creating a DataFrame with the original text and the embeddings\n",
    "df_embeddings = pd.DataFrame({\n",
    "    'text': df['Transcript'],  # Replace 'Transcript' with the actual column name\n",
    "    'embedding': embeddings\n",
    "})\n",
    "\n",
    "# Save the new DataFrame to a CSV file\n",
    "df_embeddings.to_csv('text_embeddings.csv', index=False)"
   ]
  },
  {
   "cell_type": "code",
   "execution_count": 7,
   "id": "46d50792",
   "metadata": {},
   "outputs": [],
   "source": [
    "# download pre-chunked text and pre-computed embeddings\n",
    "embeddings_path = \"text_embeddings.csv\"\n",
    "\n",
    "df = pd.read_csv(embeddings_path)"
   ]
  },
  {
   "cell_type": "code",
   "execution_count": 8,
   "id": "70307f8e",
   "metadata": {},
   "outputs": [],
   "source": [
    "# convert embeddings from CSV str type back to list type\n",
    "df['embedding'] = df['embedding'].apply(ast.literal_eval)"
   ]
  },
  {
   "cell_type": "code",
   "execution_count": 9,
   "id": "424162c2",
   "metadata": {},
   "outputs": [
    {
     "data": {
      "text/html": [
       "<div>\n",
       "<style scoped>\n",
       "    .dataframe tbody tr th:only-of-type {\n",
       "        vertical-align: middle;\n",
       "    }\n",
       "\n",
       "    .dataframe tbody tr th {\n",
       "        vertical-align: top;\n",
       "    }\n",
       "\n",
       "    .dataframe thead th {\n",
       "        text-align: right;\n",
       "    }\n",
       "</style>\n",
       "<table border=\"1\" class=\"dataframe\">\n",
       "  <thead>\n",
       "    <tr style=\"text-align: right;\">\n",
       "      <th></th>\n",
       "      <th>text</th>\n",
       "      <th>embedding</th>\n",
       "    </tr>\n",
       "  </thead>\n",
       "  <tbody>\n",
       "    <tr>\n",
       "      <th>0</th>\n",
       "      <td>Therapist (T): \"Welcome, and thank you for sha...</td>\n",
       "      <td>[0.004258978180587292, -0.003586169332265854, ...</td>\n",
       "    </tr>\n",
       "    <tr>\n",
       "      <th>1</th>\n",
       "      <td>Therapist (T): Good morning, and welcome. I'm ...</td>\n",
       "      <td>[-0.010963448323309422, -0.01884562335908413, ...</td>\n",
       "    </tr>\n",
       "    <tr>\n",
       "      <th>2</th>\n",
       "      <td>THERAPIST: I want to welcome you to your first...</td>\n",
       "      <td>[-0.00798663217574358, -0.018524734303355217, ...</td>\n",
       "    </tr>\n",
       "  </tbody>\n",
       "</table>\n",
       "</div>"
      ],
      "text/plain": [
       "                                                text  \\\n",
       "0  Therapist (T): \"Welcome, and thank you for sha...   \n",
       "1  Therapist (T): Good morning, and welcome. I'm ...   \n",
       "2  THERAPIST: I want to welcome you to your first...   \n",
       "\n",
       "                                           embedding  \n",
       "0  [0.004258978180587292, -0.003586169332265854, ...  \n",
       "1  [-0.010963448323309422, -0.01884562335908413, ...  \n",
       "2  [-0.00798663217574358, -0.018524734303355217, ...  "
      ]
     },
     "execution_count": 9,
     "metadata": {},
     "output_type": "execute_result"
    }
   ],
   "source": [
    "# the dataframe has two columns: \"text\" and \"embedding\"\n",
    "df"
   ]
  },
  {
   "cell_type": "markdown",
   "id": "e0701250",
   "metadata": {},
   "source": [
    "## Search function on the basis of ranking "
   ]
  },
  {
   "cell_type": "code",
   "execution_count": 10,
   "id": "b9a8c713-c8a9-47dc-85a4-871ee1395566",
   "metadata": {},
   "outputs": [],
   "source": [
    "from typing import List, Tuple\n",
    "import openai\n",
    "openai.api_key = \"OPENAI KEY\"  #ADD YOUR OWN API KEY\n",
    "\n",
    "EMBEDDING_MODEL = \"text-embedding-ada-002\"\n",
    "\n",
    "# search function\n",
    "def strings_ranked_by_relatedness(\n",
    "    query: str,\n",
    "    df: pd.DataFrame,\n",
    "    relatedness_fn=lambda x, y: 1 - spatial.distance.cosine(x, y),\n",
    "    top_n: int = 100\n",
    ") -> Tuple[List[str], List[float]]:\n",
    "    \"\"\"Returns a list of strings and relatednesses, sorted from most related to least.\"\"\"\n",
    "    query_embedding_response = openai.Embedding.create(\n",
    "        model=\"text-embedding-ada-002\",\n",
    "        input=query,\n",
    "    )\n",
    "    query_embedding = query_embedding_response['data'][0]['embedding']\n",
    "    strings_and_relatednesses = [\n",
    "        (row[\"text\"], relatedness_fn(query_embedding, row[\"embedding\"]))\n",
    "        for _, row in df.iterrows()\n",
    "    ]\n",
    "    strings_and_relatednesses.sort(key=lambda x: x[1], reverse=True)\n",
    "    strings, relatednesses = zip(*strings_and_relatednesses)\n",
    "    return list(strings)[:top_n], list(relatednesses)[:top_n]"
   ]
  },
  {
   "cell_type": "markdown",
   "id": "8353c192",
   "metadata": {},
   "source": [
    "## Finetuning our Generative Model"
   ]
  },
  {
   "cell_type": "code",
   "execution_count": 11,
   "id": "1f45cecc",
   "metadata": {},
   "outputs": [],
   "source": [
    "openai.api_key = \"OPENAI KEY\"  #ADD YOUR OWN API KEY\n",
    "\n",
    "client = openai\n",
    "\n",
    "# Function for calculating vector similarities for search\n",
    "def num_tokens(text: str, model: str = GPT_MODEL) -> int:\n",
    "    \"\"\"Return the number of tokens in a string.\"\"\"\n",
    "    encoding = tiktoken.encoding_for_model(model)\n",
    "    return len(encoding.encode(text))\n",
    "\n",
    "\n",
    "def query_message(\n",
    "    query: str,\n",
    "    df: pd.DataFrame,\n",
    "    model: str,\n",
    "    token_budget: int,\n",
    "    client_number: int \n",
    ") -> str:\n",
    "    \"\"\"Return a message for GPT, with relevant source texts pulled from a dataframe.\"\"\"\n",
    "    \n",
    "    df = df.iloc[[client_number - 1]]  # Subtracting 1 because index starts at 0\n",
    "    \n",
    "    strings, relatednesses = strings_ranked_by_relatedness(query, df)\n",
    "    introduction = 'Use the above transcript which is a therapy session between thearapist and a client to answer the subsequent question. keep the answer crisp. If the answer cannot be found in the articles, write \"I could not find an answer.\"'\n",
    "    question = f\"\\n\\nQuestion: {query}\"\n",
    "    message = introduction\n",
    "    for string in strings:\n",
    "        next_article = f'\\n\\nTherapy Session History:\\n\"\"\"\\n{string}\\n\"\"\"'\n",
    "        if (\n",
    "            num_tokens(message + next_article + question, model=model)\n",
    "            > token_budget\n",
    "        ):\n",
    "            break\n",
    "        else:\n",
    "            message += next_article\n",
    "    return message + question\n",
    "\n",
    "\n",
    "def ask(\n",
    "    query: str,\n",
    "    df: pd.DataFrame,\n",
    "    client_number: int,\n",
    "    model: str = 'gpt-4',\n",
    "    token_budget: int = 4096 - 500,\n",
    "    print_message: bool = False,\n",
    ") -> str:\n",
    "    \"\"\"Answers a query using GPT and a dataframe of relevant texts and embeddings.\"\"\"\n",
    "    message = query_message(query, df, model=model, token_budget=token_budget, client_number=client_number)\n",
    "    if print_message:\n",
    "        print(message)\n",
    "    messages = [\n",
    "        {\"role\": \"system\", \"content\": \"You answer questions about the therapy session history.\"},\n",
    "        {\"role\": \"user\", \"content\": message},\n",
    "    ]\n",
    "    \n",
    "    # Use the correct method for chat completion\n",
    "    response = openai.ChatCompletion.create(\n",
    "        model=model,\n",
    "        messages=messages,\n",
    "        temperature=0\n",
    "    )\n",
    "    \n",
    "    response_message = response['choices'][0]['message']['content']\n",
    "    return response_message\n",
    "\n",
    "\n"
   ]
  },
  {
   "cell_type": "markdown",
   "id": "9f2b0927",
   "metadata": {},
   "source": [
    "### Example questions\n",
    "\n",
    "Finally, let's ask our system our original question about gold medal curlers:"
   ]
  },
  {
   "cell_type": "code",
   "execution_count": 75,
   "id": "e11f53ab",
   "metadata": {},
   "outputs": [
    {
     "data": {
      "text/plain": [
       "'The client was struggling with anxiety and stress, which was amplified by a recent minor car accident. This anxiety was affecting their daily routines, sleep patterns, work performance, and relationships. They were also dealing with intrusive thoughts and fears about driving following the accident.'"
      ]
     },
     "execution_count": 75,
     "metadata": {},
     "output_type": "execute_result"
    }
   ],
   "source": [
    "ask(\n",
    "    query='what was the issue the client was struggling with?',\n",
    "    df=df, \n",
    "    client_number=1, \n",
    "    model=\"gpt-4\")"
   ]
  },
  {
   "cell_type": "code",
   "execution_count": 57,
   "id": "d6cb292f",
   "metadata": {},
   "outputs": [
    {
     "data": {
      "text/plain": [
       "'The client mentioned that they have been dealing with anxiety for a while, even before the car accident that happened last month. However, the exact duration of their struggle is not specified in the therapy session history.'"
      ]
     },
     "execution_count": 57,
     "metadata": {},
     "output_type": "execute_result"
    }
   ],
   "source": [
    "ask('How long the client has been struggling with issues?', df=df, model=\"gpt-4\", client_number=1)"
   ]
  },
  {
   "cell_type": "code",
   "execution_count": 58,
   "id": "30da5271",
   "metadata": {},
   "outputs": [
    {
     "data": {
      "text/plain": [
       "'The therapy session transcript does not mention any impact of COVID-19 on the patient.'"
      ]
     },
     "execution_count": 58,
     "metadata": {},
     "output_type": "execute_result"
    }
   ],
   "source": [
    "# comparison question\n",
    "ask('Has COVID-19 affected the patient?', df=df, model=\"gpt-4\", client_number=1)"
   ]
  },
  {
   "cell_type": "code",
   "execution_count": 76,
   "id": "c5aad00d",
   "metadata": {},
   "outputs": [
    {
     "data": {
      "text/plain": [
       "'The client was struggling with several issues including work-related stress and anxiety, procrastination, difficulty in setting boundaries with others, and feeling disconnected from their partner.'"
      ]
     },
     "execution_count": 76,
     "metadata": {},
     "output_type": "execute_result"
    }
   ],
   "source": [
    "ask(\n",
    "    query='what was the issue the client was struggling with?', df=df, model=\"gpt-4\", client_number=1)"
   ]
  },
  {
   "cell_type": "code",
   "execution_count": 12,
   "id": "18fd388c",
   "metadata": {},
   "outputs": [
    {
     "data": {
      "text/plain": [
       "'The client was struggling with alcohol consumption as a coping mechanism for their problems.'"
      ]
     },
     "execution_count": 12,
     "metadata": {},
     "output_type": "execute_result"
    }
   ],
   "source": [
    "ask(\n",
    "    query='what was the issue the client was struggling with?',\n",
    "    df=df, \n",
    "    client_number=3, \n",
    "    model=\"gpt-4\")"
   ]
  },
  {
   "cell_type": "code",
   "execution_count": 18,
   "id": "2e94d7d9",
   "metadata": {},
   "outputs": [],
   "source": [
    "def generate_related_questions(\n",
    "    query: str,\n",
    "    df: pd.DataFrame,\n",
    "    client_number: int,\n",
    "    model: str = 'gpt-4',\n",
    "    token_budget: int = 4096 - 500,\n",
    "    num_questions: int = 3,  \n",
    "    print_message: bool = False,\n",
    ") -> str:\n",
    "    \"\"\"\n",
    "    Generates a set of questions related to a given query using GPT and a dataframe of relevant texts.\n",
    "    \"\"\"\n",
    "    message = query_message(query, df, model=model, token_budget=token_budget, client_number=client_number)\n",
    "    \n",
    "    if print_message:\n",
    "        print(message)\n",
    "        \n",
    "    prompt_to_generate_questions = f\"{message}\\n\\nCan you generate {num_questions} related questions based on the above question and therapy session history?\"\n",
    "    \n",
    "    messages = [\n",
    "        {\"role\": \"system\", \"content\": \"You are a helpful assistant. Please generate related questions based on the therapy session history.\"},\n",
    "        {\"role\": \"user\", \"content\": prompt_to_generate_questions},\n",
    "    ]\n",
    "    \n",
    "    response = client.ChatCompletion.create(\n",
    "        model=model,\n",
    "        messages=messages,\n",
    "        temperature=0.7,\n",
    "        max_tokens=token_budget\n",
    "    )\n",
    "    \n",
    "    generated_questions = response['choices'][0]['message']['content']\n",
    "    \n",
    "    # Print and return the generated questions\n",
    "    if print_message:\n",
    "        print(generated_questions)\n",
    "    \n",
    "    return generated_questions.strip().split('\\n')\n",
    "\n"
   ]
  },
  {
   "cell_type": "code",
   "execution_count": 21,
   "id": "86a7cf0c",
   "metadata": {},
   "outputs": [
    {
     "data": {
      "text/plain": [
       "[\"1. What major event in the client's recent past has contributed to their heightened state of anxiety?\",\n",
       " \"2. How is the client's anxiety impacting their daily routine and relationships?\",\n",
       " '3. What strategies did the therapist suggest to help the client manage their anxiety and improve their sleep?']"
      ]
     },
     "execution_count": 21,
     "metadata": {},
     "output_type": "execute_result"
    }
   ],
   "source": [
    "generate_related_questions('what was the issue the client was struggling with?', df, client_number=1)\n"
   ]
  },
  {
   "cell_type": "code",
   "execution_count": 22,
   "id": "2042fe87",
   "metadata": {},
   "outputs": [
    {
     "data": {
      "text/plain": [
       "\"The major event in the client's recent past that has contributed to their heightened state of anxiety is a car accident they had last month.\""
      ]
     },
     "execution_count": 22,
     "metadata": {},
     "output_type": "execute_result"
    }
   ],
   "source": [
    "ask(\n",
    "    query=\"What major event in the client's recent past has contributed to their heightened state of anxiety?\",\n",
    "    df=df, \n",
    "    client_number=1, \n",
    "    model=\"gpt-4\")"
   ]
  },
  {
   "cell_type": "code",
   "execution_count": null,
   "id": "d73cfb9d",
   "metadata": {},
   "outputs": [],
   "source": []
  }
 ],
 "metadata": {
  "kernelspec": {
   "display_name": "Python 3 (ipykernel)",
   "language": "python",
   "name": "python3"
  },
  "language_info": {
   "codemirror_mode": {
    "name": "ipython",
    "version": 3
   },
   "file_extension": ".py",
   "mimetype": "text/x-python",
   "name": "python",
   "nbconvert_exporter": "python",
   "pygments_lexer": "ipython3",
   "version": "3.8.18"
  },
  "vscode": {
   "interpreter": {
    "hash": "365536dcbde60510dc9073d6b991cd35db2d9bac356a11f5b64279a5e6708b97"
   }
  }
 },
 "nbformat": 4,
 "nbformat_minor": 5
}
